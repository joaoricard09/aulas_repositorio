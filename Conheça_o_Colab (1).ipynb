{
  "cells": [
    {
      "cell_type": "code",
      "source": [
        "import numpy as np"
      ],
      "metadata": {
        "id": "pPuGHBJb38cY"
      },
      "execution_count": 2,
      "outputs": []
    },
    {
      "cell_type": "code",
      "source": [
        "temperaturas = np.array([22.5, 24.0, 19.8, 21.4, 23.0, 25.1, 20.7])\n",
        "dias = np.array([\"Seg\", \"Ter\", \"Qua\", \"Qui\", \"Sex\", \"Sáb\", \"Dom\"])"
      ],
      "metadata": {
        "id": "P3ifv7JQI5lw"
      },
      "execution_count": 82,
      "outputs": []
    },
    {
      "cell_type": "code",
      "source": [
        "#temperatura média da semana\n",
        "media = temperaturas.mean()\n",
        "print(f\"Temperatura média da semana: {media:.2f}°C\")"
      ],
      "metadata": {
        "id": "xc5aOMQxKm82",
        "outputId": "67a40a3a-433d-4589-eaf2-1d43872c54fd",
        "colab": {
          "base_uri": "https://localhost:8080/"
        }
      },
      "execution_count": 87,
      "outputs": [
        {
          "output_type": "stream",
          "name": "stdout",
          "text": [
            "Temperatura média da semana: 22.54°C\n"
          ]
        }
      ]
    },
    {
      "cell_type": "code",
      "source": [
        "#temperatura máxima e dia\n",
        "max_temp = temperaturas.max()\n",
        "dia_max = dias[temperaturas.argmax()]\n",
        "print(f\"Temperatura máxima: {max_temp:.1f}°C no dia {dia_max}\")"
      ],
      "metadata": {
        "id": "mtTMBSmIKnAm",
        "outputId": "7d4a9295-426e-4f4d-dffe-463001f84d7c",
        "colab": {
          "base_uri": "https://localhost:8080/"
        }
      },
      "execution_count": 88,
      "outputs": [
        {
          "output_type": "stream",
          "name": "stdout",
          "text": [
            "Temperatura máxima: 25.1°C no dia Sáb\n"
          ]
        }
      ]
    },
    {
      "cell_type": "code",
      "source": [
        "#dias com temperatura acima da média\n",
        "dias_acima_media = dias[temperaturas > media]\n",
        "print(\"Dias com temperatura acima da média:\", dias_acima_media)"
      ],
      "metadata": {
        "id": "Yl1IfqGLKnFU",
        "outputId": "3775e403-5c3a-41bd-befe-50ded37f606c",
        "colab": {
          "base_uri": "https://localhost:8080/"
        }
      },
      "execution_count": 89,
      "outputs": [
        {
          "output_type": "stream",
          "name": "stdout",
          "text": [
            "Dias com temperatura acima da média: ['Ter' 'Sex' 'Sáb']\n"
          ]
        }
      ]
    },
    {
      "cell_type": "code",
      "source": [
        "#temperaturas convertidas para Fahrenheit\n",
        "fahrenheit = temperaturas * 1.8 + 32\n",
        "print(\"Temperaturas em Fahrenheit:\", fahrenheit)"
      ],
      "metadata": {
        "id": "dA93daUXKnNW",
        "outputId": "570493e4-0f6c-43a7-aa26-0d69b0c227a5",
        "colab": {
          "base_uri": "https://localhost:8080/"
        }
      },
      "execution_count": 90,
      "outputs": [
        {
          "output_type": "stream",
          "name": "stdout",
          "text": [
            "Temperaturas em Fahrenheit: [72.5  75.2  67.64 70.52 73.4  77.18 71.6 ]\n"
          ]
        }
      ]
    },
    {
      "cell_type": "code",
      "source": [
        "#substituir a temperatura de domingo por 22.0°C e recalcular média\n",
        "temperaturas[6] = 22.0\n",
        "nova_media = temperaturas.mean()\n",
        "print(f\"Nova temperatura média após ajuste no domingo: {nova_media:.2f}°C\")"
      ],
      "metadata": {
        "id": "oEY4fRfAKnQe",
        "outputId": "277a8308-363b-4109-df5a-26dfc198f712",
        "colab": {
          "base_uri": "https://localhost:8080/"
        }
      },
      "execution_count": 91,
      "outputs": [
        {
          "output_type": "stream",
          "name": "stdout",
          "text": [
            "Nova temperatura média após ajuste no domingo: 22.54°C\n"
          ]
        }
      ]
    }
  ],
  "metadata": {
    "colab": {
      "name": "Conheça o Colab",
      "provenance": []
    },
    "kernelspec": {
      "display_name": "Python 3",
      "name": "python3"
    }
  },
  "nbformat": 4,
  "nbformat_minor": 0
}