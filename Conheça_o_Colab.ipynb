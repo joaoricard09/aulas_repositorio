{
  "cells": [
    {
      "cell_type": "code",
      "source": [
        "import statistics as st\n",
        "import random as ran"
      ],
      "metadata": {
        "id": "MYS1a-eJJBjo"
      },
      "execution_count": 14,
      "outputs": []
    },
    {
      "cell_type": "code",
      "source": [
        "avaliacoes = [ran.randint(1, 5) for i in range(50)]\n",
        "print(avaliacoes)"
      ],
      "metadata": {
        "id": "tBWrk_vtJHgW",
        "outputId": "b4143874-ff83-4fd8-95bc-4a5fad51c7bb",
        "colab": {
          "base_uri": "https://localhost:8080/"
        }
      },
      "execution_count": 15,
      "outputs": [
        {
          "output_type": "stream",
          "name": "stdout",
          "text": [
            "[2, 5, 2, 1, 2, 3, 3, 4, 4, 2, 5, 4, 1, 5, 1, 1, 5, 1, 2, 4, 3, 1, 5, 1, 4, 4, 3, 4, 3, 1, 4, 1, 1, 1, 5, 4, 2, 2, 4, 5, 2, 3, 3, 4, 5, 4, 5, 3, 5, 3]\n"
          ]
        }
      ]
    },
    {
      "cell_type": "code",
      "source": [
        "moda_das_avaliacoes = st.mode(avaliacoes)\n",
        "print('\\nModa das avaliaçoes:', moda_das_avaliacoes)"
      ],
      "metadata": {
        "id": "9kVkvahpJOjt",
        "outputId": "600dd2f0-3432-4cc6-c9e5-11e476ec4149",
        "colab": {
          "base_uri": "https://localhost:8080/"
        }
      },
      "execution_count": 16,
      "outputs": [
        {
          "output_type": "stream",
          "name": "stdout",
          "text": [
            "\n",
            "Moda das avaliaçoes: 4\n"
          ]
        }
      ]
    },
    {
      "cell_type": "code",
      "source": [
        "desvio = st.stdev(avaliacoes)\n",
        "print('Desvio das avaliações: ',desvio)"
      ],
      "metadata": {
        "id": "CiWc-UcRJVAd",
        "outputId": "6c721d57-5e7a-4526-8de7-cdd7990d54b0",
        "colab": {
          "base_uri": "https://localhost:8080/"
        }
      },
      "execution_count": 17,
      "outputs": [
        {
          "output_type": "stream",
          "name": "stdout",
          "text": [
            "Desvio das avaliações:  1.4563022785571038\n"
          ]
        }
      ]
    },
    {
      "cell_type": "code",
      "source": [
        "media = st.mean(avaliacoes)\n",
        "mediana = st.median(avaliacoes)\n",
        "print('Média', media)\n",
        "print('Mediana', mediana)"
      ],
      "metadata": {
        "id": "RI9GDBNTJU31",
        "outputId": "ba388574-ae5a-4730-d3e5-0f4bb10f0122",
        "colab": {
          "base_uri": "https://localhost:8080/"
        }
      },
      "execution_count": 18,
      "outputs": [
        {
          "output_type": "stream",
          "name": "stdout",
          "text": [
            "Média 3.04\n",
            "Mediana 3.0\n"
          ]
        }
      ]
    },
    {
      "cell_type": "code",
      "source": [
        "if media == 1 or media <= 2:\n",
        "  print('A avaliação média é ruim')\n",
        "elif media >= 3 or media <= 4:\n",
        "  print('A avaliação média é mediana')\n",
        "elif media >= 4 or media == 5:\n",
        "  print('A avaliação média é boa')"
      ],
      "metadata": {
        "id": "KuMzPYulJUuc",
        "outputId": "dd896311-4299-4b1c-ec8f-7fb3c2a778d9",
        "colab": {
          "base_uri": "https://localhost:8080/"
        }
      },
      "execution_count": 19,
      "outputs": [
        {
          "output_type": "stream",
          "name": "stdout",
          "text": [
            "A avaliação média é mediana\n"
          ]
        }
      ]
    }
  ],
  "metadata": {
    "colab": {
      "name": "Conheça o Colab",
      "provenance": []
    },
    "kernelspec": {
      "display_name": "Python 3",
      "name": "python3"
    }
  },
  "nbformat": 4,
  "nbformat_minor": 0
}