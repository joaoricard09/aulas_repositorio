{
  "cells": [
    {
      "cell_type": "code",
      "source": [
        "import pandas as pd"
      ],
      "metadata": {
        "id": "QMGZRBul7EFk"
      },
      "execution_count": 1,
      "outputs": []
    },
    {
      "cell_type": "code",
      "source": [
        "#Estado SP RJ MG RS PR\n",
        "cidades_br = pn.DataFrame({\n",
        "    'cidade': ['São Paulo', 'Rio de Janeiro', 'Belo Horizonte', 'Porto Alegre','Curitiba'],\n",
        "    'estado': ['SP', 'RJ', 'MG', 'RS','RP'],\n",
        "    'População em milhões': [12.31, 6.72, 2.98, 1.54, 2.89],\n",
        "    'Capital': [True, True, True, True, True],\n",
        "})"
      ],
      "metadata": {
        "id": "N1fh1lli7Nfv"
      },
      "execution_count": 53,
      "outputs": []
    },
    {
      "cell_type": "code",
      "source": [
        "print(cidades_br)"
      ],
      "metadata": {
        "colab": {
          "base_uri": "https://localhost:8080/"
        },
        "id": "O4blrqC39Q6u",
        "outputId": "6008c11f-1533-489f-dc01-4be1fd2f7843"
      },
      "execution_count": 48,
      "outputs": [
        {
          "output_type": "stream",
          "name": "stdout",
          "text": [
            "           cidade estado  População em milhões  Capital\n",
            "0       São Paulo     SP                 12.31     True\n",
            "1  Rio de Janeiro     RJ                  6.72     True\n",
            "2  Belo Horizonte     MG                  2.98     True\n",
            "3    Porto Alegre     RS                  1.54     True\n",
            "4        Curitiba     RP                  2.89     True\n"
          ]
        }
      ]
    },
    {
      "cell_type": "code",
      "source": [
        "print(cidades_br.head(3))"
      ],
      "metadata": {
        "colab": {
          "base_uri": "https://localhost:8080/"
        },
        "id": "jQN2rPgc9pyT",
        "outputId": "f0bb2afb-66d8-47fa-f402-e93d6e24f893"
      },
      "execution_count": 25,
      "outputs": [
        {
          "output_type": "stream",
          "name": "stdout",
          "text": [
            "           cidade estado  População em milhões  Capital\n",
            "0       São Paulo     SP                 12.31     True\n",
            "1  Rio de Janeiro     RJ                  6.72     True\n",
            "2  Belo Horizonte     MG                  2.98     True\n"
          ]
        }
      ]
    },
    {
      "cell_type": "code",
      "source": [
        "print(cidades_br.sample(2))"
      ],
      "metadata": {
        "colab": {
          "base_uri": "https://localhost:8080/"
        },
        "id": "Wm5yWZ7sHdks",
        "outputId": "ed297e11-bd60-4cd6-9bfd-c2a94e5509cc"
      },
      "execution_count": 42,
      "outputs": [
        {
          "output_type": "stream",
          "name": "stdout",
          "text": [
            "           cidade estado  População em milhões  Capital\n",
            "3    Porto Alegre     RS                  1.54     True\n",
            "2  Belo Horizonte     MG                  2.98     True\n"
          ]
        }
      ]
    },
    {
      "cell_type": "code",
      "source": [
        "cidades_br['Área (km²)'] = [1521, 1200, 331, 496, 435]"
      ],
      "metadata": {
        "id": "2IEC3rtrIR3F"
      },
      "execution_count": 60,
      "outputs": []
    },
    {
      "cell_type": "code",
      "source": [
        "cidades_br.loc[cidades_br['cidade'] == 'Porto Alegre', 'Capital'] = False\n",
        "cidades_br.loc[cidades_br['cidade'] == 'Curitiba', 'Capital'] = False"
      ],
      "metadata": {
        "id": "q65kmHGeM8Ar"
      },
      "execution_count": 61,
      "outputs": []
    },
    {
      "cell_type": "code",
      "source": [
        "cidades_br.columns = ['Estado' , 'UF', 'Habitantes (M)', 'É Capital', 'Tamanho (km²)']"
      ],
      "metadata": {
        "id": "HB7aiVVoNzkc"
      },
      "execution_count": 69,
      "outputs": []
    },
    {
      "cell_type": "code",
      "source": [
        "print(cidades_br.describe())"
      ],
      "metadata": {
        "id": "Q5qDuuckN5qz",
        "outputId": "c0b2215a-aa3a-44df-beba-66a925bd36a4",
        "colab": {
          "base_uri": "https://localhost:8080/"
        }
      },
      "execution_count": 70,
      "outputs": [
        {
          "output_type": "stream",
          "name": "stdout",
          "text": [
            "       Habitantes (M)  Tamanho (km²)\n",
            "count        5.000000       5.000000\n",
            "mean         5.288000     796.600000\n",
            "std          4.372753     530.420871\n",
            "min          1.540000     331.000000\n",
            "25%          2.890000     435.000000\n",
            "50%          2.980000     496.000000\n",
            "75%          6.720000    1200.000000\n",
            "max         12.310000    1521.000000\n"
          ]
        }
      ]
    },
    {
      "cell_type": "code",
      "source": [
        "print(cidades_br[cidades_br['Habitantes (M)'] > 1.0])"
      ],
      "metadata": {
        "id": "Qe4UUkrAOf2c",
        "outputId": "7f84549e-a3d0-41e4-9bd6-e3efb3754109",
        "colab": {
          "base_uri": "https://localhost:8080/"
        }
      },
      "execution_count": 76,
      "outputs": [
        {
          "output_type": "stream",
          "name": "stdout",
          "text": [
            "           Estado  UF  Habitantes (M)  É Capital  Tamanho (km²)\n",
            "0       São Paulo  SP           12.31       True           1521\n",
            "1  Rio de Janeiro  RJ            6.72       True           1200\n",
            "2  Belo Horizonte  MG            2.98       True            331\n",
            "3    Porto Alegre  RS            1.54      False            496\n",
            "4        Curitiba  RP            2.89      False            435\n"
          ]
        }
      ]
    },
    {
      "cell_type": "code",
      "source": [
        "cidades_br.drop('Tamanho (km²)', axis=1, inplace=True)"
      ],
      "metadata": {
        "id": "MpvPKGezPKBU"
      },
      "execution_count": 77,
      "outputs": []
    },
    {
      "cell_type": "code",
      "source": [
        "print(cidades_br.iloc[0])"
      ],
      "metadata": {
        "id": "aa0GWCwaPOmm",
        "outputId": "fe14636e-7428-4c48-f23b-95b03dd2fd95",
        "colab": {
          "base_uri": "https://localhost:8080/"
        }
      },
      "execution_count": 80,
      "outputs": [
        {
          "output_type": "stream",
          "name": "stdout",
          "text": [
            "Estado            São Paulo\n",
            "UF                       SP\n",
            "Habitantes (M)        12.31\n",
            "É Capital              True\n",
            "Name: 0, dtype: object\n"
          ]
        }
      ]
    },
    {
      "cell_type": "code",
      "source": [
        "print(cidades_br.iloc[1:4])"
      ],
      "metadata": {
        "id": "N85CKTR4PXXL",
        "outputId": "b572dd89-eee5-4f59-d79b-e8a6eccb4423",
        "colab": {
          "base_uri": "https://localhost:8080/"
        }
      },
      "execution_count": 81,
      "outputs": [
        {
          "output_type": "stream",
          "name": "stdout",
          "text": [
            "           Estado  UF  Habitantes (M)  É Capital\n",
            "1  Rio de Janeiro  RJ            6.72       True\n",
            "2  Belo Horizonte  MG            2.98       True\n",
            "3    Porto Alegre  RS            1.54      False\n"
          ]
        }
      ]
    },
    {
      "cell_type": "code",
      "source": [
        "print(cidades_br.iloc[[0, 4], [1, 2]])"
      ],
      "metadata": {
        "id": "PIrzzMoAPbLC",
        "outputId": "f9cf6827-4cab-4011-a8a6-badbfc2f4252",
        "colab": {
          "base_uri": "https://localhost:8080/"
        }
      },
      "execution_count": 82,
      "outputs": [
        {
          "output_type": "stream",
          "name": "stdout",
          "text": [
            "   UF  Habitantes (M)\n",
            "0  SP           12.31\n",
            "4  RP            2.89\n"
          ]
        }
      ]
    }
  ],
  "metadata": {
    "colab": {
      "name": "Conheça o Colab",
      "provenance": []
    },
    "kernelspec": {
      "display_name": "Python 3",
      "name": "python3"
    }
  },
  "nbformat": 4,
  "nbformat_minor": 0
}