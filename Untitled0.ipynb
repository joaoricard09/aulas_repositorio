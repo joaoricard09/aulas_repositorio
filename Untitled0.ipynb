{
  "nbformat": 4,
  "nbformat_minor": 0,
  "metadata": {
    "colab": {
      "provenance": []
    },
    "kernelspec": {
      "name": "python3",
      "display_name": "Python 3"
    },
    "language_info": {
      "name": "python"
    }
  },
  "cells": [
    {
      "cell_type": "code",
      "execution_count": null,
      "metadata": {
        "id": "xiCH5y0Hjp8c"
      },
      "outputs": [],
      "source": [
        "import statistics as st\n",
        "import math as mt"
      ]
    },
    {
      "cell_type": "code",
      "source": [
        "# Notas e Situação (exercicio 2)\n",
        "nota1 = float(input('Digite a nota 1:'))\n",
        "nota2 = float(input('Digite a nota 2:'))\n",
        "nota3 = float(input('Digite a nota 3:'))\n",
        "nota4 = float(input('Digite a nota 4:'))\n",
        "\n",
        "media = (nota1 + nota2 + nota3 + nota4) / 4\n",
        "\n",
        "print('A média é:', media)\n",
        "\n",
        "if media == 7 or media > 7.1:\n",
        "    print('Aprovado')\n",
        "elif media == 5 or media < 6.9:\n",
        "    print('Recuperação')\n",
        "elif media < 5:\n",
        "    print('Reprovado')"
      ],
      "metadata": {
        "colab": {
          "base_uri": "https://localhost:8080/"
        },
        "id": "jn3fqEPlpiqV",
        "outputId": "0a7fe3c6-9c45-44d8-bd54-7f16fc4624b9"
      },
      "execution_count": null,
      "outputs": [
        {
          "output_type": "stream",
          "name": "stdout",
          "text": [
            "Digite a nota 1:2\n",
            "Digite a nota 2:2\n",
            "Digite a nota 3:3\n",
            "Digite a nota 4:1\n",
            "A média é: 2.0\n",
            "Recuperação\n"
          ]
        }
      ]
    },
    {
      "cell_type": "code",
      "source": [
        "#Somar valores digitados  (exercicio 3)\n",
        "valores = []\n",
        "soma = 0\n",
        "\n",
        "while True:\n",
        "    valor = float(input(\"Digite um valor (0 para sair): \"))\n",
        "\n",
        "    if valor == 0:\n",
        "        break\n",
        "\n",
        "    valores.append(valor)\n",
        "    soma += valor\n",
        "\n",
        "print(\"Valores digitados:\", valores)\n",
        "\n",
        "if valores:\n",
        "    media = soma / len(valores)\n",
        "    print(\"Média dos valores:\", media)\n",
        "else:\n",
        "    print(\"Nenhum valor foi digitado.\")\n"
      ],
      "metadata": {
        "colab": {
          "base_uri": "https://localhost:8080/"
        },
        "id": "f0pTFEnFuNrI",
        "outputId": "a9a8a770-087c-43ad-a5bc-70f1ac794afa"
      },
      "execution_count": null,
      "outputs": [
        {
          "output_type": "stream",
          "name": "stdout",
          "text": [
            "Digite um valor (0 para sair): 60\n",
            "Digite um valor (0 para sair): 20\n",
            "Digite um valor (0 para sair): 20\n",
            "Digite um valor (0 para sair): 10\n",
            "Digite um valor (0 para sair): 50\n",
            "Digite um valor (0 para sair): 70\n",
            "Digite um valor (0 para sair): 100\n",
            "Digite um valor (0 para sair): 30\n",
            "Digite um valor (0 para sair): 0\n",
            "Valores digitados: [60.0, 20.0, 20.0, 10.0, 50.0, 70.0, 100.0, 30.0]\n",
            "Média dos valores: 45.0\n"
          ]
        }
      ]
    },
    {
      "cell_type": "code",
      "source": [
        "#lista de valores abaixo (exercicio 4)\n",
        "\n",
        "lista_de_valores = [1, 7, 3, 8, 6, 1, 7, 7, 0, 3, 6, 7, 1, 7, 8, 0, 7, 3, 1, 6, 3, 1, 3, 7, 6, 9, 7, 7, 3, 7, 0, 7, 1, 7, 9]\n",
        "\n",
        "contagem = Counter(lista_de_valores)\n",
        "\n",
        "moda = contagem.most_common(1)[0][0]\n",
        "frequencia_moda = contagem.most_common(1)[0][1]\n",
        "\n",
        "print(f\"A moda da lista é:\", moda)\n",
        "print(f\"A moda aparece {frequencia_moda} vezes na lista.\")"
      ],
      "metadata": {
        "colab": {
          "base_uri": "https://localhost:8080/"
        },
        "id": "ZEk26VjkyTUn",
        "outputId": "76d53e68-ed06-4d22-8050-e01301935677"
      },
      "execution_count": 35,
      "outputs": [
        {
          "output_type": "stream",
          "name": "stdout",
          "text": [
            "A moda da lista é: 7\n",
            "A moda aparece 12 vezes na lista.\n"
          ]
        }
      ]
    },
    {
      "cell_type": "code",
      "source": [
        "#Crie um programa que receber a lista de valores abaixo (exercicio 5)\n",
        "lista_de_valores = [35, 37, 36, 34, 38, 35, 37, 37, 33, 36,\n",
        "                    38, 37, 35, 37, 34, 33, 37, 36, 35, 38, 36, 35, 36, 37, 38,\n",
        "                    39, 37, 37, 36, 37, 33, 37, 35, 37, 39]\n",
        "\n",
        "variancia = st.variance(lista_de_valores)\n",
        "\n",
        "desvio_padrao = st.stdev(lista_de_valores)\n",
        "\n",
        "print(\"A variância da lista é:\", variancia)\n",
        "print(\"O desvio padrão da lista é:\", desvio_padrao)"
      ],
      "metadata": {
        "colab": {
          "base_uri": "https://localhost:8080/"
        },
        "id": "LtwfHTlzzCB3",
        "outputId": "b1460723-33db-4646-b666-645db9a1e9ef"
      },
      "execution_count": 36,
      "outputs": [
        {
          "output_type": "stream",
          "name": "stdout",
          "text": [
            "A variância da lista é: 2.5176470588235293\n",
            "O desvio padrão da lista é: 1.5867095067540022\n"
          ]
        }
      ]
    }
  ]
}